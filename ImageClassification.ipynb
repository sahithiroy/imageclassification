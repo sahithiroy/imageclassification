{
  "cells": [
    {
      "cell_type": "code",
      "execution_count": null,
      "metadata": {
        "id": "dQE2FjLVxpqb"
      },
      "outputs": [],
      "source": [
        "import keras\n",
        "from keras.datasets import cifar10\n",
        "from keras.preprocessing.image import ImageDataGenerator\n",
        "from keras.models import Sequential\n",
        "from keras.layers import Dense,Dropout,Activation\n",
        "from keras.layers import Conv2D,MaxPooling2D,GlobalMaxPooling2D"
      ]
    },
    {
      "cell_type": "code",
      "execution_count": null,
      "metadata": {
        "id": "wHzVaR9IzF68"
      },
      "outputs": [],
      "source": [
        "from __future__ import print_function"
      ]
    },
    {
      "cell_type": "code",
      "execution_count": null,
      "metadata": {
        "id": "1nuLw2izzIV6"
      },
      "outputs": [],
      "source": [
        "batch_size=32\n",
        "num_classes=10\n",
        "epochs=100\n",
        "data_augementation=True\n"
      ]
    },
    {
      "cell_type": "code",
      "execution_count": null,
      "metadata": {
        "colab": {
          "base_uri": "https://localhost:8080/"
        },
        "id": "mmjjLifizfb5",
        "outputId": "c919b532-aae9-4739-8c1e-8092401863c1"
      },
      "outputs": [
        {
          "name": "stdout",
          "output_type": "stream",
          "text": [
            "Downloading data from https://www.cs.toronto.edu/~kriz/cifar-10-python.tar.gz\n",
            "170498071/170498071 [==============================] - 3s 0us/step\n",
            "x_train shape (50000, 32, 32, 3)\n",
            "50000\n",
            "10000\n"
          ]
        }
      ],
      "source": [
        "(x_train,y_train),(x_test,y_test)=cifar10.load_data()\n",
        "print('x_train shape',x_train.shape)\n",
        "print(x_train.shape[0])\n",
        "print(x_test.shape[0])\n",
        "y_train=keras.utils.to_categorical(y_train,num_classes)\n",
        "y_test=keras.utils.to_categorical(y_test,num_classes)"
      ]
    },
    {
      "cell_type": "code",
      "execution_count": null,
      "metadata": {
        "id": "WlzCYJp20b8j"
      },
      "outputs": [],
      "source": [
        "model=Sequential()\n",
        "model.add(Conv2D(32,(3,3),padding='same',input_shape=x_train.shape[1:]))\n",
        "model.add(Activation('relu'))\n",
        "model.add(Conv2D(48,(3,3),padding='same',input_shape=x_train.shape[1:]))\n",
        "model.add(Activation('relu'))\n",
        "model.add(MaxPooling2D(pool_size=(2,2)))\n",
        "model.add(Dropout(0.25))\n",
        "model.add(Conv2D(80,(3,3),padding='same',input_shape=x_train.shape[1:]))\n",
        "model.add(Activation('relu'))\n",
        "model.add(MaxPooling2D(pool_size=(2,2)))\n",
        "model.add(Dropout(0.25))\n",
        "model.add(Conv2D(128,(3,3),padding='same',input_shape=x_train.shape[1:]))\n",
        "model.add(GlobalMaxPooling2D())\n",
        "model.add(Dropout(0.25))\n",
        "model.add(Dense(500))\n",
        "model.add(Activation('relu'))\n",
        "model.add(Dropout(0.25))\n",
        "model.add(Dense(num_classes))\n",
        "model.add(Activation('softmax'))\n"
      ]
    },
    {
      "cell_type": "code",
      "execution_count": null,
      "metadata": {
        "colab": {
          "base_uri": "https://localhost:8080/"
        },
        "id": "ThDfSUU_O9vB",
        "outputId": "f7db0a91-d96a-458d-bf78-ad8f60ca21ef"
      },
      "outputs": [
        {
          "name": "stderr",
          "output_type": "stream",
          "text": [
            "WARNING:absl:`lr` is deprecated in Keras optimizer, please use `learning_rate` or use the legacy optimizer, e.g.,tf.keras.optimizers.legacy.Adam.\n"
          ]
        },
        {
          "name": "stdout",
          "output_type": "stream",
          "text": [
            "Model: \"sequential_4\"\n",
            "_________________________________________________________________\n",
            " Layer (type)                Output Shape              Param #   \n",
            "=================================================================\n",
            " conv2d_11 (Conv2D)          (None, 32, 32, 32)        896       \n",
            "                                                                 \n",
            " activation_9 (Activation)   (None, 32, 32, 32)        0         \n",
            "                                                                 \n",
            " conv2d_12 (Conv2D)          (None, 32, 32, 48)        13872     \n",
            "                                                                 \n",
            " activation_10 (Activation)  (None, 32, 32, 48)        0         \n",
            "                                                                 \n",
            " max_pooling2d_5 (MaxPoolin  (None, 16, 16, 48)        0         \n",
            " g2D)                                                            \n",
            "                                                                 \n",
            " dropout_6 (Dropout)         (None, 16, 16, 48)        0         \n",
            "                                                                 \n",
            " conv2d_13 (Conv2D)          (None, 16, 16, 80)        34640     \n",
            "                                                                 \n",
            " activation_11 (Activation)  (None, 16, 16, 80)        0         \n",
            "                                                                 \n",
            " max_pooling2d_6 (MaxPoolin  (None, 8, 8, 80)          0         \n",
            " g2D)                                                            \n",
            "                                                                 \n",
            " dropout_7 (Dropout)         (None, 8, 8, 80)          0         \n",
            "                                                                 \n",
            " conv2d_14 (Conv2D)          (None, 8, 8, 128)         92288     \n",
            "                                                                 \n",
            " global_max_pooling2d_1 (Gl  (None, 128)               0         \n",
            " obalMaxPooling2D)                                               \n",
            "                                                                 \n",
            " dropout_8 (Dropout)         (None, 128)               0         \n",
            "                                                                 \n",
            " dense_1 (Dense)             (None, 500)               64500     \n",
            "                                                                 \n",
            " activation_12 (Activation)  (None, 500)               0         \n",
            "                                                                 \n",
            " dropout_9 (Dropout)         (None, 500)               0         \n",
            "                                                                 \n",
            " dense_2 (Dense)             (None, 10)                5010      \n",
            "                                                                 \n",
            " activation_13 (Activation)  (None, 10)                0         \n",
            "                                                                 \n",
            "=================================================================\n",
            "Total params: 211206 (825.02 KB)\n",
            "Trainable params: 211206 (825.02 KB)\n",
            "Non-trainable params: 0 (0.00 Byte)\n",
            "_________________________________________________________________\n"
          ]
        }
      ],
      "source": [
        "opt=keras.optimizers.Adam(lr=0.0001)\n",
        "model.compile(loss='categorical_crossentropy',optimizer=opt,metrics=['accuracy'])\n",
        "model.summary()"
      ]
    },
    {
      "cell_type": "code",
      "execution_count": null,
      "metadata": {
        "id": "Yau6Hsh1P3l_"
      },
      "outputs": [],
      "source": [
        "x_train=x_train.astype('float32')\n",
        "x_test=x_test.astype('float32')\n",
        "x_train/=255\n",
        "y_test/=255\n"
      ]
    },
    {
      "cell_type": "code",
      "execution_count": null,
      "metadata": {
        "colab": {
          "base_uri": "https://localhost:8080/"
        },
        "id": "q84vd0D8Qcph",
        "outputId": "d510d23a-42c9-456b-ad3c-48a0827cd96a"
      },
      "outputs": [
        {
          "name": "stdout",
          "output_type": "stream",
          "text": [
            "using real-time data augmentation\n"
          ]
        }
      ],
      "source": [
        "if not data_augementation:\n",
        "  print(\"Not using data augmentation\")\n",
        "  model.fit(x_train,y_train,batch_size=batch_size,\n",
        "           eopchs=epochs,validation_data=(x_test,y_test),\n",
        "            shuffle=True)\n",
        "else:\n",
        "  print('using real-time data augmentation')"
      ]
    },
    {
      "cell_type": "code",
      "execution_count": null,
      "metadata": {
        "id": "mcCX1rLDRvvv"
      },
      "outputs": [],
      "source": [
        "datagen=ImageDataGenerator(\n",
        "    featurewise_center=False,\n",
        "    samplewise_center=False,\n",
        "    featurewise_std_normalization=False,\n",
        "    samplewise_std_normalization=False,\n",
        "    zca_whitening=False,\n",
        "    rotation_range=10,\n",
        "    width_shift_range=0.2,\n",
        "    height_shift_range=0.2,\n",
        "    horizontal_flip=True,\n",
        "    vertical_flip=False\n",
        ")"
      ]
    },
    {
      "cell_type": "code",
      "execution_count": null,
      "metadata": {
        "colab": {
          "background_save": true,
          "base_uri": "https://localhost:8080/"
        },
        "id": "zzw-cNmFTxx-",
        "outputId": "dd598f54-8203-4041-e112-96d45c466b0d"
      },
      "outputs": [
        {
          "name": "stdout",
          "output_type": "stream",
          "text": [
            "Epoch 1/100\n"
          ]
        },
        {
          "name": "stderr",
          "output_type": "stream",
          "text": [
            "<ipython-input-19-eccd64a45d48>:2: UserWarning: `Model.fit_generator` is deprecated and will be removed in a future version. Please use `Model.fit`, which supports generators.\n",
            "  model.fit_generator(datagen.flow(x_train,y_train,batch_size=batch_size),steps_per_epoch=x_train.shape[0]//batch_size,epochs=epochs,validation_data=(x_test,y_test))\n"
          ]
        },
        {
          "name": "stdout",
          "output_type": "stream",
          "text": [
            "1562/1562 [==============================] - 296s 188ms/step - loss: 1.7185 - accuracy: 0.3629 - val_loss: 0.8406 - val_accuracy: 0.2806\n",
            "Epoch 2/100\n",
            "1562/1562 [==============================] - 305s 195ms/step - loss: 1.3843 - accuracy: 0.4982 - val_loss: 0.7268 - val_accuracy: 0.2973\n",
            "Epoch 3/100\n",
            "1562/1562 [==============================] - 298s 191ms/step - loss: 1.2621 - accuracy: 0.5463 - val_loss: 0.7069 - val_accuracy: 0.3240\n",
            "Epoch 4/100\n",
            "1562/1562 [==============================] - 294s 188ms/step - loss: 1.1815 - accuracy: 0.5747 - val_loss: 0.7208 - val_accuracy: 0.3137\n",
            "Epoch 5/100\n",
            "1562/1562 [==============================] - 292s 187ms/step - loss: 1.1237 - accuracy: 0.5973 - val_loss: 0.6826 - val_accuracy: 0.3669\n",
            "Epoch 6/100\n",
            "1562/1562 [==============================] - 290s 186ms/step - loss: 1.0865 - accuracy: 0.6151 - val_loss: 0.9110 - val_accuracy: 0.3109\n",
            "Epoch 7/100\n",
            "1562/1562 [==============================] - 293s 187ms/step - loss: 1.0456 - accuracy: 0.6296 - val_loss: 1.0367 - val_accuracy: 0.3269\n",
            "Epoch 8/100\n",
            "1562/1562 [==============================] - 273s 175ms/step - loss: 1.0291 - accuracy: 0.6376 - val_loss: 0.7593 - val_accuracy: 0.3510\n",
            "Epoch 9/100\n",
            "1562/1562 [==============================] - 272s 174ms/step - loss: 0.9964 - accuracy: 0.6499 - val_loss: 0.7568 - val_accuracy: 0.3520\n",
            "Epoch 10/100\n",
            "1562/1562 [==============================] - 272s 174ms/step - loss: 0.9802 - accuracy: 0.6541 - val_loss: 0.8512 - val_accuracy: 0.3171\n",
            "Epoch 11/100\n",
            "1562/1562 [==============================] - 280s 179ms/step - loss: 0.9670 - accuracy: 0.6599 - val_loss: 0.7448 - val_accuracy: 0.3536\n",
            "Epoch 12/100\n",
            "1562/1562 [==============================] - 272s 174ms/step - loss: 0.9516 - accuracy: 0.6658 - val_loss: 0.7101 - val_accuracy: 0.3497\n",
            "Epoch 13/100\n",
            "1562/1562 [==============================] - 280s 179ms/step - loss: 0.9390 - accuracy: 0.6715 - val_loss: 0.7086 - val_accuracy: 0.3688\n",
            "Epoch 14/100\n",
            "1562/1562 [==============================] - 273s 175ms/step - loss: 0.9272 - accuracy: 0.6760 - val_loss: 0.6044 - val_accuracy: 0.4067\n",
            "Epoch 15/100\n",
            "1562/1562 [==============================] - 271s 173ms/step - loss: 0.9228 - accuracy: 0.6779 - val_loss: 0.6278 - val_accuracy: 0.3725\n",
            "Epoch 16/100\n",
            "1562/1562 [==============================] - 270s 173ms/step - loss: 0.9114 - accuracy: 0.6829 - val_loss: 0.6352 - val_accuracy: 0.3748\n",
            "Epoch 17/100\n",
            "1562/1562 [==============================] - 274s 175ms/step - loss: 0.9075 - accuracy: 0.6828 - val_loss: 0.6840 - val_accuracy: 0.3984\n",
            "Epoch 18/100\n",
            "1562/1562 [==============================] - 283s 181ms/step - loss: 0.8906 - accuracy: 0.6896 - val_loss: 0.6839 - val_accuracy: 0.4236\n",
            "Epoch 19/100\n",
            "1246/1562 [======================>.......] - ETA: 52s - loss: 0.8891 - accuracy: 0.6919"
          ]
        }
      ],
      "source": [
        "datagen.fit(x_train)\n",
        "model.fit_generator(datagen.flow(x_train,y_train,batch_size=batch_size),steps_per_epoch=x_train.shape[0]//batch_size,epochs=epochs,validation_data=(x_test,y_test))"
      ]
    },
    {
      "cell_type": "code",
      "execution_count": null,
      "metadata": {
        "id": "jUryEslkU_lt"
      },
      "outputs": [],
      "source": [
        "scores=model.evaluate(x_test,y_test,verbose=1)\n",
        "print(\"Test Loss\",scores[0])\n",
        "print(\"Test Accuracy\",scores[1])"
      ]
    }
  ],
  "metadata": {
    "colab": {
      "provenance": []
    },
    "kernelspec": {
      "display_name": "Python 3",
      "name": "python3"
    },
    "language_info": {
      "name": "python"
    }
  },
  "nbformat": 4,
  "nbformat_minor": 0
}